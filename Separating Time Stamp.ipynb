{
 "cells": [
  {
   "cell_type": "code",
   "execution_count": null,
   "id": "proved-prophet",
   "metadata": {},
   "outputs": [],
   "source": [
    "import pandas as pd\n",
    "\n",
    "date = pd.read_csv('.../file.csv')\n",
    "date.head()\n",
    "\n",
    "\n",
    "\n",
    "date.TmStamp.head()\n",
    "\n",
    "date['TmStamp'] = pd.to_datetime(date['TmStamp'])\n",
    "\n",
    "\n",
    "\n",
    "date['TmStamp_Year'] =  date['TmStamp'].dt.year\n",
    "date['TmStamp_Month'] = date['TmStamp'].dt.month\n",
    "date['TmStamp_Week'] = date['TmStamp'].dt.isocalendar().week\n",
    "date['TmStamp_Day'] = date['TmStamp'].dt.day\n",
    "date['TmStamp_Hour'] = date['TmStamp'].dt.hour\n",
    "date['TmStamp_Minute'] = date['TmStamp'].dt.minute\n",
    "\n",
    "\n",
    "\n",
    "date = date.drop(columns = ['DIF_Avg', 'DNI_Avg', 'DNICalc_Avg', \n",
    "        'Bat12_Avg', 'Bat12_Min', 'Bat24_Avg', 'Bat24_Min',\n",
    "        'DNI_Calb_Avg', 'RecNum'])\n",
    "date.head()\n",
    "\n",
    "\n",
    "\n",
    "\n",
    "date.to_csv('sep_TmStamp_project.csv')"
   ]
  }
 ],
 "metadata": {
  "kernelspec": {
   "display_name": "Python 3",
   "language": "python",
   "name": "python3"
  },
  "language_info": {
   "codemirror_mode": {
    "name": "ipython",
    "version": 3
   },
   "file_extension": ".py",
   "mimetype": "text/x-python",
   "name": "python",
   "nbconvert_exporter": "python",
   "pygments_lexer": "ipython3",
   "version": "3.7.9"
  },
  "nbTranslate": {
   "displayLangs": [
    "*"
   ],
   "hotkey": "alt-t",
   "langInMainMenu": true,
   "sourceLang": "en",
   "targetLang": "fr",
   "useGoogleTranslate": true
  }
 },
 "nbformat": 4,
 "nbformat_minor": 5
}
